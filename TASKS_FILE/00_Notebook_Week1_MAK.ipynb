{
 "cells": [
  {
   "cell_type": "markdown",
   "metadata": {},
   "source": [
    "- Participant Details\n",
    "  \n",
    "Title= \"Mr\"\n",
    "\n",
    "Name= \"Muhammad Ali Khan\"\n",
    "\n",
    "email= \"economistmalikhan66@gmail.com\"\n",
    "\n",
    "whatsapp= \"00923114353036\"\n",
    "\n"
   ]
  }
 ],
 "metadata": {
  "kernelspec": {
   "display_name": "Python 3.9.12 ('base')",
   "language": "python",
   "name": "python3"
  },
  "language_info": {
   "name": "python",
   "version": "3.9.12"
  },
  "orig_nbformat": 4,
  "vscode": {
   "interpreter": {
    "hash": "08ccfd8e5c564284383daff0b18f29cbeb29e35f5dfd90652e4746fc7fd60076"
   }
  }
 },
 "nbformat": 4,
 "nbformat_minor": 2
}
